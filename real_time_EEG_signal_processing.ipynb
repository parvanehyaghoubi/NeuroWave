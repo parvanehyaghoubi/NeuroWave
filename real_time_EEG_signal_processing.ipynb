{
 "cells": [
  {
   "cell_type": "markdown",
   "id": "2fc17ed6-de3a-4b23-b11e-ce4e522bd2b5",
   "metadata": {},
   "source": [
    "### Author: [Parvaneh Yaghoubi](https://github.com/parvanehyaghoubi)\n",
    "\n",
    "# Real time signal processing in EEG"
   ]
  },
  {
   "cell_type": "markdown",
   "id": "d6793f9a-46f6-4807-ba1c-d001db604f13",
   "metadata": {},
   "source": [
    "## Import libraries"
   ]
  },
  {
   "cell_type": "code",
   "execution_count": 1,
   "id": "32adcd70-da18-492b-8dd2-c9e79ec7d850",
   "metadata": {},
   "outputs": [],
   "source": [
    "import pandas as pd\n",
    "from scipy import signal\n",
    "import numpy as np\n",
    "import time\n",
    "import pylab as pl\n",
    "from IPython import display"
   ]
  },
  {
   "cell_type": "markdown",
   "id": "3f92ecee-6afa-43c2-a70a-3c490982bdb4",
   "metadata": {},
   "source": [
    "## Real time signal processing in EEG\n",
    "\n",
    "Real-time signal processing in EEG (electroencephalography) is critical for several reasons. First, it provides immediate analysis and interpretation of brain activity, which is important for applications such as neurofeedback, brain-computer interfaces (BCI), and real-time monitoring of neurological conditions.\n",
    "\n",
    "In addition, real-time processing facilitates adaptive algorithms that can dynamically adapt to changing brain states, increasing the accuracy and effectiveness of interventions. This immediacy also improves the user experience in BCI by reducing latency, resulting in a smoother, more responsive experience.\n",
    "\n",
    "**Positive**  \n",
    "\n",
    "* Responsiveness: Real-time processing minimizes latency, making BCIs more effective and user-friendly by providing quick responses to user inputs.  \n",
    "* Adaptive Algorithms: Algorithms can dynamically adjust to ongoing changes in brain activity, enhancing the accuracy and functionality of BCIs.\n",
    "\n",
    "**Negative**  \n",
    "\n",
    "* Signal Noise: EEG signals are often contaminated with noise from various sources (e.g., muscle movements, electrical interference), which can complicate real-time processing and reduce accuracy.  \n",
    "* Computational Load: Real-time processing requires significant computational resources to filter, analyze, and interpret EEG data promptly.  \n",
    "* Accuracy: The need for fast processing can sometimes compromise the accuracy of signal interpretation, leading to false positives or negatives.  \n",
    "* Generalization: Real-time algorithms may not generalize well across different subjects or conditions, necessitating extensive customization and tuning.  \n",
    "\n",
    "**How it works**\n",
    "\n",
    "When working in real time, the main difference is the need to create a data buffer. It's crucial to determine the length of data that will be fed into the filter for processing and subsequent visualization. For instance, with a frame rate of 250 FPS (meaning we receive 250 EEG data points from each channel per second), data processing and visualization would occur once per secund. However, for bandpass filters, it is important to supply data with a margin, as the filter needs time for adjusting.\n",
    "\n",
    "In our example, we demonstrate the ability to set the length of one data packet and how many packets will be fed into the filter.\n",
    "\n",
    "**Recommendation**\n",
    "\n",
    "Try adjusting the bandpass filter settings and aim to achieve a faster graph update rate. Currently, the graph updates every sec.\n"
   ]
  },
  {
   "cell_type": "code",
   "execution_count": null,
   "id": "c6270b0a-310c-4506-a4f1-f0ab4c88a8d1",
   "metadata": {},
   "outputs": [],
   "source": []
  }
 ],
 "metadata": {
  "kernelspec": {
   "display_name": "Python 3 (ipykernel)",
   "language": "python",
   "name": "python3"
  },
  "language_info": {
   "codemirror_mode": {
    "name": "ipython",
    "version": 3
   },
   "file_extension": ".py",
   "mimetype": "text/x-python",
   "name": "python",
   "nbconvert_exporter": "python",
   "pygments_lexer": "ipython3",
   "version": "3.11.9"
  }
 },
 "nbformat": 4,
 "nbformat_minor": 5
}
