{
 "cells": [
  {
   "cell_type": "markdown",
   "id": "bf4fe4af-25cc-4778-9bd2-b9910e4783fc",
   "metadata": {},
   "source": [
    "### Author: [Parvaneh Yaghoubi](https://github.com/parvanehyaghoubi)\n",
    "\n",
    "# Frequency analysis"
   ]
  },
  {
   "cell_type": "markdown",
   "id": "d8a6f718-4454-46b7-8a7e-88e8abfe2aeb",
   "metadata": {},
   "source": [
    "## Import libraries"
   ]
  },
  {
   "cell_type": "code",
   "execution_count": 2,
   "id": "33767168-05c7-44d7-abfd-a53e324ccff3",
   "metadata": {},
   "outputs": [
    {
     "name": "stdout",
     "output_type": "stream",
     "text": [
      "Requirement already satisfied: PyWavelets in c:\\users\\laptop_ma\\appdata\\local\\programs\\python\\python311\\lib\\site-packages (1.8.0)\n",
      "Requirement already satisfied: numpy<3,>=1.23 in c:\\users\\laptop_ma\\appdata\\local\\programs\\python\\python311\\lib\\site-packages (from PyWavelets) (1.26.0)\n"
     ]
    },
    {
     "name": "stderr",
     "output_type": "stream",
     "text": [
      "WARNING: Ignoring invalid distribution ~ (C:\\Users\\LAPTOP_MA\\AppData\\Local\\Programs\\Python\\Python311\\Lib\\site-packages)\n",
      "WARNING: Ignoring invalid distribution ~otebook (C:\\Users\\LAPTOP_MA\\AppData\\Local\\Programs\\Python\\Python311\\Lib\\site-packages)\n",
      "WARNING: Ignoring invalid distribution ~~tebook (C:\\Users\\LAPTOP_MA\\AppData\\Local\\Programs\\Python\\Python311\\Lib\\site-packages)\n",
      "WARNING: Ignoring invalid distribution ~ (C:\\Users\\LAPTOP_MA\\AppData\\Local\\Programs\\Python\\Python311\\Lib\\site-packages)\n",
      "WARNING: Ignoring invalid distribution ~otebook (C:\\Users\\LAPTOP_MA\\AppData\\Local\\Programs\\Python\\Python311\\Lib\\site-packages)\n",
      "WARNING: Ignoring invalid distribution ~~tebook (C:\\Users\\LAPTOP_MA\\AppData\\Local\\Programs\\Python\\Python311\\Lib\\site-packages)\n",
      "WARNING: Ignoring invalid distribution ~ (C:\\Users\\LAPTOP_MA\\AppData\\Local\\Programs\\Python\\Python311\\Lib\\site-packages)\n",
      "WARNING: Ignoring invalid distribution ~otebook (C:\\Users\\LAPTOP_MA\\AppData\\Local\\Programs\\Python\\Python311\\Lib\\site-packages)\n",
      "WARNING: Ignoring invalid distribution ~~tebook (C:\\Users\\LAPTOP_MA\\AppData\\Local\\Programs\\Python\\Python311\\Lib\\site-packages)\n",
      "\n",
      "[notice] A new release of pip is available: 24.3.1 -> 25.2\n",
      "[notice] To update, run: python.exe -m pip install --upgrade pip\n"
     ]
    }
   ],
   "source": [
    "from matplotlib import pyplot as plt\n",
    "import pandas as pd\n",
    "import numpy as np\n",
    "import scipy\n",
    "from scipy import signal\n",
    "!pip install PyWavelets\n",
    "import pywt"
   ]
  },
  {
   "cell_type": "markdown",
   "id": "4171b159-256b-48c2-b161-6e27544407f6",
   "metadata": {},
   "source": [
    "## Import Dataset"
   ]
  },
  {
   "cell_type": "code",
   "execution_count": 3,
   "id": "5b9f6511-a80d-4c72-9b40-9f76d95606f4",
   "metadata": {},
   "outputs": [
    {
     "data": {
      "text/html": [
       "<div>\n",
       "<style scoped>\n",
       "    .dataframe tbody tr th:only-of-type {\n",
       "        vertical-align: middle;\n",
       "    }\n",
       "\n",
       "    .dataframe tbody tr th {\n",
       "        vertical-align: top;\n",
       "    }\n",
       "\n",
       "    .dataframe thead th {\n",
       "        text-align: right;\n",
       "    }\n",
       "</style>\n",
       "<table border=\"1\" class=\"dataframe\">\n",
       "  <thead>\n",
       "    <tr style=\"text-align: right;\">\n",
       "      <th></th>\n",
       "      <th>ch1</th>\n",
       "      <th>ch2</th>\n",
       "      <th>ch3</th>\n",
       "      <th>ch4</th>\n",
       "      <th>ch5</th>\n",
       "      <th>ch6</th>\n",
       "      <th>ch7</th>\n",
       "      <th>ch8</th>\n",
       "    </tr>\n",
       "  </thead>\n",
       "  <tbody>\n",
       "    <tr>\n",
       "      <th>0</th>\n",
       "      <td>23899.1</td>\n",
       "      <td>2951.1</td>\n",
       "      <td>36442.2</td>\n",
       "      <td>38418.6</td>\n",
       "      <td>12414.9</td>\n",
       "      <td>3759.5</td>\n",
       "      <td>31001.4</td>\n",
       "      <td>52775.3</td>\n",
       "    </tr>\n",
       "    <tr>\n",
       "      <th>1</th>\n",
       "      <td>23917.7</td>\n",
       "      <td>3048.0</td>\n",
       "      <td>36463.8</td>\n",
       "      <td>38344.3</td>\n",
       "      <td>12448.1</td>\n",
       "      <td>3726.3</td>\n",
       "      <td>31032.4</td>\n",
       "      <td>52223.4</td>\n",
       "    </tr>\n",
       "    <tr>\n",
       "      <th>2</th>\n",
       "      <td>23984.9</td>\n",
       "      <td>3148.2</td>\n",
       "      <td>36525.1</td>\n",
       "      <td>39002.6</td>\n",
       "      <td>12520.4</td>\n",
       "      <td>3601.3</td>\n",
       "      <td>31103.2</td>\n",
       "      <td>53175.1</td>\n",
       "    </tr>\n",
       "    <tr>\n",
       "      <th>3</th>\n",
       "      <td>24016.8</td>\n",
       "      <td>3183.3</td>\n",
       "      <td>36551.5</td>\n",
       "      <td>39602.8</td>\n",
       "      <td>12548.5</td>\n",
       "      <td>3473.0</td>\n",
       "      <td>31133.2</td>\n",
       "      <td>54514.6</td>\n",
       "    </tr>\n",
       "    <tr>\n",
       "      <th>4</th>\n",
       "      <td>23960.3</td>\n",
       "      <td>3061.0</td>\n",
       "      <td>36494.8</td>\n",
       "      <td>39256.9</td>\n",
       "      <td>12475.6</td>\n",
       "      <td>3549.7</td>\n",
       "      <td>31061.9</td>\n",
       "      <td>54321.3</td>\n",
       "    </tr>\n",
       "  </tbody>\n",
       "</table>\n",
       "</div>"
      ],
      "text/plain": [
       "       ch1     ch2      ch3      ch4      ch5     ch6      ch7      ch8\n",
       "0  23899.1  2951.1  36442.2  38418.6  12414.9  3759.5  31001.4  52775.3\n",
       "1  23917.7  3048.0  36463.8  38344.3  12448.1  3726.3  31032.4  52223.4\n",
       "2  23984.9  3148.2  36525.1  39002.6  12520.4  3601.3  31103.2  53175.1\n",
       "3  24016.8  3183.3  36551.5  39602.8  12548.5  3473.0  31133.2  54514.6\n",
       "4  23960.3  3061.0  36494.8  39256.9  12475.6  3549.7  31061.9  54321.3"
      ]
     },
     "metadata": {},
     "output_type": "display_data"
    }
   ],
   "source": [
    "data = pd.read_excel(\"dataset/dataset.xlsx\")\n",
    "display(data.head())"
   ]
  },
  {
   "cell_type": "code",
   "execution_count": null,
   "id": "404ef332-395f-4cd3-9199-2fec86cf572c",
   "metadata": {},
   "outputs": [],
   "source": [
    "# select the data from the first channel\n",
    "channel = 20\n",
    "channel_data = eeg_data.iloc[:, channel]\n",
    "# convert from Digital Value of Analog Digital converter (ADC) ADS1299 to microvolts µV\n",
    "channel_data = round(1000000*4.5*(channel_data/16777215),2)\n",
    "\n",
    "# plot the EEG data\n",
    "plt.plot(channel_data)\n",
    "plt.title(\"EEG, Raw data, Channel \" +str(channel + 1))\n",
    "plt.ylabel('EEG, µV')\n",
    "plt.xlabel('Sample')\n",
    "plt.show()"
   ]
  }
 ],
 "metadata": {
  "kernelspec": {
   "display_name": "Python 3 (ipykernel)",
   "language": "python",
   "name": "python3"
  },
  "language_info": {
   "codemirror_mode": {
    "name": "ipython",
    "version": 3
   },
   "file_extension": ".py",
   "mimetype": "text/x-python",
   "name": "python",
   "nbconvert_exporter": "python",
   "pygments_lexer": "ipython3",
   "version": "3.11.9"
  }
 },
 "nbformat": 4,
 "nbformat_minor": 5
}
