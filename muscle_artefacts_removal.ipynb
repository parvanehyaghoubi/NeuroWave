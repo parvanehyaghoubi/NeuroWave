{
 "cells": [
  {
   "cell_type": "markdown",
   "id": "a1bc65ec-734a-4db5-936e-403479d85f7a",
   "metadata": {},
   "source": [
    "### Author: [Parvaneh Yaghoubi](https://github.com/parvanehyaghoubi)\n",
    "\n",
    "# Muscle artefacts removal (component decomposition)"
   ]
  },
  {
   "cell_type": "markdown",
   "id": "26982f6c-cbb0-4cc5-ae28-da8287fd8e1e",
   "metadata": {},
   "source": [
    "## Import libraries"
   ]
  },
  {
   "cell_type": "code",
   "execution_count": 3,
   "id": "2aa44bcc-8b58-42a9-a97a-de857cb347b2",
   "metadata": {},
   "outputs": [],
   "source": [
    "from matplotlib import pyplot as plt\n",
    "import pandas as pd\n",
    "import numpy as np\n",
    "import scipy.interpolate as spi\n",
    "from scipy import signal\n",
    "from sklearn.decomposition import PCA,FastICA\n",
    "from sklearn.preprocessing import StandardScaler\n",
    "from sklearn.cluster import KMeans\n",
    "\n",
    "from pyts.decomposition import SingularSpectrumAnalysis\n",
    "\n",
    "from PyEMD import EEMD"
   ]
  },
  {
   "cell_type": "code",
   "execution_count": null,
   "id": "fb318bd4-7fc2-4697-98c0-cb1ecf4a8d95",
   "metadata": {},
   "outputs": [],
   "source": []
  }
 ],
 "metadata": {
  "kernelspec": {
   "display_name": "Python 3 (ipykernel)",
   "language": "python",
   "name": "python3"
  },
  "language_info": {
   "codemirror_mode": {
    "name": "ipython",
    "version": 3
   },
   "file_extension": ".py",
   "mimetype": "text/x-python",
   "name": "python",
   "nbconvert_exporter": "python",
   "pygments_lexer": "ipython3",
   "version": "3.11.9"
  }
 },
 "nbformat": 4,
 "nbformat_minor": 5
}
