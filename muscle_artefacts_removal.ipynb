{
 "cells": [
  {
   "cell_type": "code",
   "execution_count": null,
   "id": "6680c77a-a089-4cbb-8058-2b00a4143114",
   "metadata": {},
   "outputs": [],
   "source": [
    "Muscle artefacts removal (component decomposition)"
   ]
  }
 ],
 "metadata": {
  "kernelspec": {
   "display_name": "Python 3 (ipykernel)",
   "language": "python",
   "name": "python3"
  },
  "language_info": {
   "codemirror_mode": {
    "name": "ipython",
    "version": 3
   },
   "file_extension": ".py",
   "mimetype": "text/x-python",
   "name": "python",
   "nbconvert_exporter": "python",
   "pygments_lexer": "ipython3",
   "version": "3.11.9"
  }
 },
 "nbformat": 4,
 "nbformat_minor": 5
}
