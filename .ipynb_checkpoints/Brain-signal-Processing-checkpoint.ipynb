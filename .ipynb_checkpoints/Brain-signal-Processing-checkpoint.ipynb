{
 "cells": [
  {
   "cell_type": "markdown",
   "id": "29b9da3f-fd78-4354-a41c-c02bc368282e",
   "metadata": {},
   "source": [
    "## Import libraries"
   ]
  },
  {
   "cell_type": "code",
   "execution_count": 1,
   "id": "cfffbcce-dc71-4ef4-9708-5adeb40dd3ad",
   "metadata": {},
   "outputs": [
    {
     "name": "stdout",
     "output_type": "stream",
     "text": [
      "Requirement already satisfied: mne in c:\\users\\laptop_ma\\appdata\\local\\programs\\python\\python311\\lib\\site-packages (1.9.0)\n",
      "Requirement already satisfied: decorator in c:\\users\\laptop_ma\\appdata\\local\\programs\\python\\python311\\lib\\site-packages (from mne) (5.1.1)\n",
      "Requirement already satisfied: jinja2 in c:\\users\\laptop_ma\\appdata\\local\\programs\\python\\python311\\lib\\site-packages (from mne) (3.1.5)\n",
      "Requirement already satisfied: lazy-loader>=0.3 in c:\\users\\laptop_ma\\appdata\\local\\programs\\python\\python311\\lib\\site-packages (from mne) (0.4)\n",
      "Requirement already satisfied: matplotlib>=3.6 in c:\\users\\laptop_ma\\appdata\\local\\programs\\python\\python311\\lib\\site-packages (from mne) (3.10.0)\n",
      "Requirement already satisfied: numpy<3,>=1.23 in c:\\users\\laptop_ma\\appdata\\local\\programs\\python\\python311\\lib\\site-packages (from mne) (1.26.0)\n",
      "Requirement already satisfied: packaging in c:\\users\\laptop_ma\\appdata\\local\\programs\\python\\python311\\lib\\site-packages (from mne) (24.2)\n",
      "Requirement already satisfied: pooch>=1.5 in c:\\users\\laptop_ma\\appdata\\local\\programs\\python\\python311\\lib\\site-packages (from mne) (1.8.2)\n",
      "Requirement already satisfied: scipy>=1.9 in c:\\users\\laptop_ma\\appdata\\local\\programs\\python\\python311\\lib\\site-packages (from mne) (1.14.1)\n",
      "Requirement already satisfied: tqdm in c:\\users\\laptop_ma\\appdata\\local\\programs\\python\\python311\\lib\\site-packages (from mne) (4.67.1)\n",
      "Requirement already satisfied: contourpy>=1.0.1 in c:\\users\\laptop_ma\\appdata\\local\\programs\\python\\python311\\lib\\site-packages (from matplotlib>=3.6->mne) (1.3.1)\n",
      "Requirement already satisfied: cycler>=0.10 in c:\\users\\laptop_ma\\appdata\\local\\programs\\python\\python311\\lib\\site-packages (from matplotlib>=3.6->mne) (0.12.1)\n",
      "Requirement already satisfied: fonttools>=4.22.0 in c:\\users\\laptop_ma\\appdata\\local\\programs\\python\\python311\\lib\\site-packages (from matplotlib>=3.6->mne) (4.55.3)\n",
      "Requirement already satisfied: kiwisolver>=1.3.1 in c:\\users\\laptop_ma\\appdata\\local\\programs\\python\\python311\\lib\\site-packages (from matplotlib>=3.6->mne) (1.4.8)\n",
      "Requirement already satisfied: pillow>=8 in c:\\users\\laptop_ma\\appdata\\local\\programs\\python\\python311\\lib\\site-packages (from matplotlib>=3.6->mne) (11.1.0)\n",
      "Requirement already satisfied: pyparsing>=2.3.1 in c:\\users\\laptop_ma\\appdata\\local\\programs\\python\\python311\\lib\\site-packages (from matplotlib>=3.6->mne) (3.2.1)\n",
      "Requirement already satisfied: python-dateutil>=2.7 in c:\\users\\laptop_ma\\appdata\\local\\programs\\python\\python311\\lib\\site-packages (from matplotlib>=3.6->mne) (2.9.0.post0)\n",
      "Requirement already satisfied: platformdirs>=2.5.0 in c:\\users\\laptop_ma\\appdata\\local\\programs\\python\\python311\\lib\\site-packages (from pooch>=1.5->mne) (4.3.6)\n",
      "Requirement already satisfied: requests>=2.19.0 in c:\\users\\laptop_ma\\appdata\\local\\programs\\python\\python311\\lib\\site-packages (from pooch>=1.5->mne) (2.32.3)\n",
      "Requirement already satisfied: MarkupSafe>=2.0 in c:\\users\\laptop_ma\\appdata\\local\\programs\\python\\python311\\lib\\site-packages (from jinja2->mne) (3.0.2)\n",
      "Requirement already satisfied: colorama in c:\\users\\laptop_ma\\appdata\\local\\programs\\python\\python311\\lib\\site-packages (from tqdm->mne) (0.4.6)\n",
      "Requirement already satisfied: six>=1.5 in c:\\users\\laptop_ma\\appdata\\local\\programs\\python\\python311\\lib\\site-packages (from python-dateutil>=2.7->matplotlib>=3.6->mne) (1.17.0)\n",
      "Requirement already satisfied: charset-normalizer<4,>=2 in c:\\users\\laptop_ma\\appdata\\local\\programs\\python\\python311\\lib\\site-packages (from requests>=2.19.0->pooch>=1.5->mne) (3.4.1)\n",
      "Requirement already satisfied: idna<4,>=2.5 in c:\\users\\laptop_ma\\appdata\\local\\programs\\python\\python311\\lib\\site-packages (from requests>=2.19.0->pooch>=1.5->mne) (3.10)\n",
      "Requirement already satisfied: urllib3<3,>=1.21.1 in c:\\users\\laptop_ma\\appdata\\local\\programs\\python\\python311\\lib\\site-packages (from requests>=2.19.0->pooch>=1.5->mne) (2.3.0)\n",
      "Requirement already satisfied: certifi>=2017.4.17 in c:\\users\\laptop_ma\\appdata\\local\\programs\\python\\python311\\lib\\site-packages (from requests>=2.19.0->pooch>=1.5->mne) (2024.12.14)\n"
     ]
    },
    {
     "name": "stderr",
     "output_type": "stream",
     "text": [
      "WARNING: Ignoring invalid distribution ~ (C:\\Users\\LAPTOP_MA\\AppData\\Local\\Programs\\Python\\Python311\\Lib\\site-packages)\n",
      "WARNING: Ignoring invalid distribution ~otebook (C:\\Users\\LAPTOP_MA\\AppData\\Local\\Programs\\Python\\Python311\\Lib\\site-packages)\n",
      "WARNING: Ignoring invalid distribution ~~tebook (C:\\Users\\LAPTOP_MA\\AppData\\Local\\Programs\\Python\\Python311\\Lib\\site-packages)\n",
      "WARNING: Ignoring invalid distribution ~ (C:\\Users\\LAPTOP_MA\\AppData\\Local\\Programs\\Python\\Python311\\Lib\\site-packages)\n",
      "WARNING: Ignoring invalid distribution ~otebook (C:\\Users\\LAPTOP_MA\\AppData\\Local\\Programs\\Python\\Python311\\Lib\\site-packages)\n",
      "WARNING: Ignoring invalid distribution ~~tebook (C:\\Users\\LAPTOP_MA\\AppData\\Local\\Programs\\Python\\Python311\\Lib\\site-packages)\n",
      "WARNING: Ignoring invalid distribution ~ (C:\\Users\\LAPTOP_MA\\AppData\\Local\\Programs\\Python\\Python311\\Lib\\site-packages)\n",
      "WARNING: Ignoring invalid distribution ~otebook (C:\\Users\\LAPTOP_MA\\AppData\\Local\\Programs\\Python\\Python311\\Lib\\site-packages)\n",
      "WARNING: Ignoring invalid distribution ~~tebook (C:\\Users\\LAPTOP_MA\\AppData\\Local\\Programs\\Python\\Python311\\Lib\\site-packages)\n",
      "\n",
      "[notice] A new release of pip is available: 24.3.1 -> 25.1.1\n",
      "[notice] To update, run: python.exe -m pip install --upgrade pip\n"
     ]
    }
   ],
   "source": [
    "from matplotlib import pyplot as plt\n",
    "import pandas as pd\n",
    "import numpy as np\n",
    "from scipy import signal\n",
    "\n",
    "!pip install mne\n",
    "import mne"
   ]
  },
  {
   "cell_type": "code",
   "execution_count": null,
   "id": "5e27ec65-a525-4e3d-ade6-251c12b908bc",
   "metadata": {},
   "outputs": [],
   "source": []
  }
 ],
 "metadata": {
  "kernelspec": {
   "display_name": "Python 3 (ipykernel)",
   "language": "python",
   "name": "python3"
  },
  "language_info": {
   "codemirror_mode": {
    "name": "ipython",
    "version": 3
   },
   "file_extension": ".py",
   "mimetype": "text/x-python",
   "name": "python",
   "nbconvert_exporter": "python",
   "pygments_lexer": "ipython3",
   "version": "3.11.9"
  }
 },
 "nbformat": 4,
 "nbformat_minor": 5
}
