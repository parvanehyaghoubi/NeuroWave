{
 "cells": [
  {
   "cell_type": "code",
   "execution_count": null,
   "id": "88fe63cf-3198-471b-b252-3f0cb97ee35f",
   "metadata": {},
   "outputs": [],
   "source": []
  }
 ],
 "metadata": {
  "kernelspec": {
   "display_name": "",
   "name": ""
  },
  "language_info": {
   "name": ""
  }
 },
 "nbformat": 4,
 "nbformat_minor": 5
}
