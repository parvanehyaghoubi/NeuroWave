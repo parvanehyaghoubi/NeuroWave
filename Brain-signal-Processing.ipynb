{
 "cells": [
  {
   "cell_type": "markdown",
   "id": "29b9da3f-fd78-4354-a41c-c02bc368282e",
   "metadata": {},
   "source": [
    "## Import libraries"
   ]
  },
  {
   "cell_type": "code",
   "execution_count": 2,
   "id": "cfffbcce-dc71-4ef4-9708-5adeb40dd3ad",
   "metadata": {},
   "outputs": [],
   "source": [
    "from matplotlib import pyplot as plt\n",
    "import pandas as pd\n",
    "import numpy as np\n",
    "from scipy import signal\n",
    "import mne"
   ]
  },
  {
   "cell_type": "markdown",
   "id": "8860c4d3-6550-478f-a0ba-0dea2de68060",
   "metadata": {},
   "source": [
    "## Import Dataset"
   ]
  },
  {
   "cell_type": "code",
   "execution_count": 4,
   "id": "04f8563a-7e75-4189-978d-a88135127dfc",
   "metadata": {},
   "outputs": [],
   "source": [
    "# load the Excel file as a DataFrame\n",
    "data = pd.read_excel(\"dataset/dataset.xlsx\")\n",
    "\n",
    "# convert from Digital Value of Analog Digital converter (ADC) ADS1299 to microvolts\n",
    "\n",
    "\"\"\"\n",
    "converts raw EEG data from a 24-bit ADC (ranging from 0 to 16777215) into microvolts by normalizing the data,\n",
    "scaling it to a 4.5V reference voltage, and converting to microvolts,\n",
    "then rounding to two decimal places. This transformation is necessary for accurately interpreting EEG signals, which are typically measured in microvolts\n",
    "\"\"\"\n",
    "\n",
    "eeg_data = round(1000000*4.5*(eeg_data/16777216),2) # 2 to the power of 24 = 16777216\n",
    "display(eeg_data.head())"
   ]
  },
  {
   "cell_type": "code",
   "execution_count": null,
   "id": "33dc51f9-fa81-40a0-9a2b-722bfd144215",
   "metadata": {},
   "outputs": [],
   "source": []
  }
 ],
 "metadata": {
  "kernelspec": {
   "display_name": "Python 3 (ipykernel)",
   "language": "python",
   "name": "python3"
  },
  "language_info": {
   "codemirror_mode": {
    "name": "ipython",
    "version": 3
   },
   "file_extension": ".py",
   "mimetype": "text/x-python",
   "name": "python",
   "nbconvert_exporter": "python",
   "pygments_lexer": "ipython3",
   "version": "3.11.9"
  }
 },
 "nbformat": 4,
 "nbformat_minor": 5
}
